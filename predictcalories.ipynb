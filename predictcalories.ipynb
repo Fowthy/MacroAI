{
 "cells": [
  {
   "cell_type": "markdown",
   "metadata": {},
   "source": [
    "# Predicting Recommended Daily Calories"
   ]
  },
  {
   "cell_type": "markdown",
   "metadata": {},
   "source": [
    "This notebook covers the first simple step we can do before we start building a model and use the other dataset with all necessary nutritional information. We can use the data we have to predict the recommended daily calories for each person."
   ]
  },
  {
   "cell_type": "markdown",
   "metadata": {},
   "source": [
    "### Importing the libraries\n"
   ]
  },
  {
   "cell_type": "code",
   "execution_count": 6,
   "metadata": {},
   "outputs": [],
   "source": [
    "import pandas as pd\n",
    "from sklearn.model_selection import train_test_split\n",
    "from sklearn.ensemble import RandomForestRegressor\n",
    "from sklearn.metrics import mean_absolute_error"
   ]
  },
  {
   "cell_type": "code",
   "execution_count": 10,
   "metadata": {},
   "outputs": [
    {
     "data": {
      "text/html": [
       "<div>\n",
       "<style scoped>\n",
       "    .dataframe tbody tr th:only-of-type {\n",
       "        vertical-align: middle;\n",
       "    }\n",
       "\n",
       "    .dataframe tbody tr th {\n",
       "        vertical-align: top;\n",
       "    }\n",
       "\n",
       "    .dataframe thead th {\n",
       "        text-align: right;\n",
       "    }\n",
       "</style>\n",
       "<table border=\"1\" class=\"dataframe\">\n",
       "  <thead>\n",
       "    <tr style=\"text-align: right;\">\n",
       "      <th></th>\n",
       "      <th>Sex</th>\n",
       "      <th>Age</th>\n",
       "      <th>Height</th>\n",
       "      <th>Weight</th>\n",
       "      <th>Activity Level</th>\n",
       "      <th>BMI</th>\n",
       "      <th>Daily Calories</th>\n",
       "      <th>Carbs</th>\n",
       "      <th>Fiber</th>\n",
       "      <th>Protein</th>\n",
       "      <th>Fat</th>\n",
       "      <th>Water</th>\n",
       "      <th>Vitamin C</th>\n",
       "      <th>Vitamin A</th>\n",
       "      <th>Vitamin D</th>\n",
       "      <th>Vitamin E</th>\n",
       "      <th>Vitamin B12</th>\n",
       "      <th>Vitamin K</th>\n",
       "      <th>Niacin</th>\n",
       "      <th>Calcium</th>\n",
       "    </tr>\n",
       "  </thead>\n",
       "  <tbody>\n",
       "    <tr>\n",
       "      <th>0</th>\n",
       "      <td>1</td>\n",
       "      <td>18.0</td>\n",
       "      <td>4.0</td>\n",
       "      <td>88.0</td>\n",
       "      <td>Sedentary</td>\n",
       "      <td>26.9</td>\n",
       "      <td>1166.0</td>\n",
       "      <td>131 - 189 grams\\n</td>\n",
       "      <td>38 grams</td>\n",
       "      <td>34 grams</td>\n",
       "      <td>32 - 45 grams\\n</td>\n",
       "      <td>3.3 liters (about 14 cups)\\n</td>\n",
       "      <td>75 mg</td>\n",
       "      <td>900 mcg</td>\n",
       "      <td>15 mcg</td>\n",
       "      <td>15 mg</td>\n",
       "      <td>2.4 mcg</td>\n",
       "      <td>75 mcg</td>\n",
       "      <td>16 mg</td>\n",
       "      <td>1,300 mg</td>\n",
       "    </tr>\n",
       "    <tr>\n",
       "      <th>1</th>\n",
       "      <td>1</td>\n",
       "      <td>18.0</td>\n",
       "      <td>4.0</td>\n",
       "      <td>90.0</td>\n",
       "      <td>Sedentary</td>\n",
       "      <td>27.5</td>\n",
       "      <td>1190.0</td>\n",
       "      <td>134 - 193 grams\\n</td>\n",
       "      <td>38 grams</td>\n",
       "      <td>35 grams</td>\n",
       "      <td>33 - 46 grams\\n</td>\n",
       "      <td>3.3 liters (about 14 cups)\\n</td>\n",
       "      <td>75 mg</td>\n",
       "      <td>900 mcg</td>\n",
       "      <td>15 mcg</td>\n",
       "      <td>15 mg</td>\n",
       "      <td>2.4 mcg</td>\n",
       "      <td>75 mcg</td>\n",
       "      <td>16 mg</td>\n",
       "      <td>1,300 mg</td>\n",
       "    </tr>\n",
       "    <tr>\n",
       "      <th>2</th>\n",
       "      <td>1</td>\n",
       "      <td>18.0</td>\n",
       "      <td>4.0</td>\n",
       "      <td>93.0</td>\n",
       "      <td>Sedentary</td>\n",
       "      <td>28.4</td>\n",
       "      <td>1227.0</td>\n",
       "      <td>138 - 199 grams\\n</td>\n",
       "      <td>38 grams</td>\n",
       "      <td>36 grams</td>\n",
       "      <td>34 - 48 grams\\n</td>\n",
       "      <td>3.3 liters (about 14 cups)\\n</td>\n",
       "      <td>75 mg</td>\n",
       "      <td>900 mcg</td>\n",
       "      <td>15 mcg</td>\n",
       "      <td>15 mg</td>\n",
       "      <td>2.4 mcg</td>\n",
       "      <td>75 mcg</td>\n",
       "      <td>16 mg</td>\n",
       "      <td>1,300 mg</td>\n",
       "    </tr>\n",
       "    <tr>\n",
       "      <th>3</th>\n",
       "      <td>1</td>\n",
       "      <td>18.0</td>\n",
       "      <td>4.0</td>\n",
       "      <td>95.0</td>\n",
       "      <td>Sedentary</td>\n",
       "      <td>29.0</td>\n",
       "      <td>1251.0</td>\n",
       "      <td>141 - 203 grams\\n</td>\n",
       "      <td>38 grams</td>\n",
       "      <td>37 grams</td>\n",
       "      <td>35 - 49 grams\\n</td>\n",
       "      <td>3.3 liters (about 14 cups)\\n</td>\n",
       "      <td>75 mg</td>\n",
       "      <td>900 mcg</td>\n",
       "      <td>15 mcg</td>\n",
       "      <td>15 mg</td>\n",
       "      <td>2.4 mcg</td>\n",
       "      <td>75 mcg</td>\n",
       "      <td>16 mg</td>\n",
       "      <td>1,300 mg</td>\n",
       "    </tr>\n",
       "    <tr>\n",
       "      <th>4</th>\n",
       "      <td>1</td>\n",
       "      <td>18.0</td>\n",
       "      <td>4.0</td>\n",
       "      <td>97.0</td>\n",
       "      <td>Sedentary</td>\n",
       "      <td>29.6</td>\n",
       "      <td>1275.0</td>\n",
       "      <td>143 - 207 grams\\n</td>\n",
       "      <td>38 grams</td>\n",
       "      <td>37 grams</td>\n",
       "      <td>35 - 50 grams\\n</td>\n",
       "      <td>3.3 liters (about 14 cups)\\n</td>\n",
       "      <td>75 mg</td>\n",
       "      <td>900 mcg</td>\n",
       "      <td>15 mcg</td>\n",
       "      <td>15 mg</td>\n",
       "      <td>2.4 mcg</td>\n",
       "      <td>75 mcg</td>\n",
       "      <td>16 mg</td>\n",
       "      <td>1,300 mg</td>\n",
       "    </tr>\n",
       "  </tbody>\n",
       "</table>\n",
       "</div>"
      ],
      "text/plain": [
       "   Sex   Age  Height  Weight Activity Level   BMI  Daily Calories   \n",
       "0    1  18.0     4.0    88.0      Sedentary  26.9          1166.0  \\\n",
       "1    1  18.0     4.0    90.0      Sedentary  27.5          1190.0   \n",
       "2    1  18.0     4.0    93.0      Sedentary  28.4          1227.0   \n",
       "3    1  18.0     4.0    95.0      Sedentary  29.0          1251.0   \n",
       "4    1  18.0     4.0    97.0      Sedentary  29.6          1275.0   \n",
       "\n",
       "               Carbs     Fiber   Protein              Fat   \n",
       "0  131 - 189 grams\\n  38 grams  34 grams  32 - 45 grams\\n  \\\n",
       "1  134 - 193 grams\\n  38 grams  35 grams  33 - 46 grams\\n   \n",
       "2  138 - 199 grams\\n  38 grams  36 grams  34 - 48 grams\\n   \n",
       "3  141 - 203 grams\\n  38 grams  37 grams  35 - 49 grams\\n   \n",
       "4  143 - 207 grams\\n  38 grams  37 grams  35 - 50 grams\\n   \n",
       "\n",
       "                          Water Vitamin C Vitamin A Vitamin D Vitamin E   \n",
       "0  3.3 liters (about 14 cups)\\n     75 mg   900 mcg    15 mcg     15 mg  \\\n",
       "1  3.3 liters (about 14 cups)\\n     75 mg   900 mcg    15 mcg     15 mg   \n",
       "2  3.3 liters (about 14 cups)\\n     75 mg   900 mcg    15 mcg     15 mg   \n",
       "3  3.3 liters (about 14 cups)\\n     75 mg   900 mcg    15 mcg     15 mg   \n",
       "4  3.3 liters (about 14 cups)\\n     75 mg   900 mcg    15 mcg     15 mg   \n",
       "\n",
       "  Vitamin B12 Vitamin K Niacin   Calcium  \n",
       "0     2.4 mcg    75 mcg  16 mg  1,300 mg  \n",
       "1     2.4 mcg    75 mcg  16 mg  1,300 mg  \n",
       "2     2.4 mcg    75 mcg  16 mg  1,300 mg  \n",
       "3     2.4 mcg    75 mcg  16 mg  1,300 mg  \n",
       "4     2.4 mcg    75 mcg  16 mg  1,300 mg  "
      ]
     },
     "execution_count": 10,
     "metadata": {},
     "output_type": "execute_result"
    }
   ],
   "source": [
    "df = pd.read_csv('recommended_nutrition_cleaned.csv')\n",
    "df.head(5)"
   ]
  },
  {
   "cell_type": "markdown",
   "metadata": {},
   "source": [
    "This is a simple regression problem, and we can use the following features to predict the recommended daily calories:"
   ]
  },
  {
   "cell_type": "code",
   "execution_count": 11,
   "metadata": {},
   "outputs": [],
   "source": [
    "features = ['Weight', 'Height', 'Age', 'Sex']\n",
    "target = 'Daily Calories'\n",
    "\n",
    "X = df[features]\n",
    "y = df[target]"
   ]
  },
  {
   "cell_type": "markdown",
   "metadata": {},
   "source": [
    "## Dividing the data into train and test dataset"
   ]
  },
  {
   "cell_type": "markdown",
   "metadata": {},
   "source": [
    "Next we divide the data into train and test dataset. We will use the train dataset to train the model and test dataset to test the model. We will use 80% of the data for training and 20% for testing."
   ]
  },
  {
   "cell_type": "code",
   "execution_count": 12,
   "metadata": {},
   "outputs": [],
   "source": [
    "X_train, X_test, y_train, y_test = train_test_split(X, y, test_size=0.2, random_state=42)"
   ]
  },
  {
   "cell_type": "markdown",
   "metadata": {},
   "source": [
    "The model that we use for this case is Random Forest Regressor. The default parameters are used for the model. We will use the model to predict the recommended daily calories for the test dataset and then compare the predicted values with the actual values. Obviously, because of the limited dataset we can not expect to see any good results. However this notebook will represent as a starting point for the next steps, the model will expect the 4 features (Sex, Age, Weight, Height) and will provide prediction."
   ]
  },
  {
   "cell_type": "code",
   "execution_count": 13,
   "metadata": {},
   "outputs": [],
   "source": [
    "model = RandomForestRegressor(random_state=42)"
   ]
  },
  {
   "cell_type": "code",
   "execution_count": 14,
   "metadata": {},
   "outputs": [
    {
     "data": {
      "text/html": [
       "<style>#sk-container-id-1 {color: black;}#sk-container-id-1 pre{padding: 0;}#sk-container-id-1 div.sk-toggleable {background-color: white;}#sk-container-id-1 label.sk-toggleable__label {cursor: pointer;display: block;width: 100%;margin-bottom: 0;padding: 0.3em;box-sizing: border-box;text-align: center;}#sk-container-id-1 label.sk-toggleable__label-arrow:before {content: \"▸\";float: left;margin-right: 0.25em;color: #696969;}#sk-container-id-1 label.sk-toggleable__label-arrow:hover:before {color: black;}#sk-container-id-1 div.sk-estimator:hover label.sk-toggleable__label-arrow:before {color: black;}#sk-container-id-1 div.sk-toggleable__content {max-height: 0;max-width: 0;overflow: hidden;text-align: left;background-color: #f0f8ff;}#sk-container-id-1 div.sk-toggleable__content pre {margin: 0.2em;color: black;border-radius: 0.25em;background-color: #f0f8ff;}#sk-container-id-1 input.sk-toggleable__control:checked~div.sk-toggleable__content {max-height: 200px;max-width: 100%;overflow: auto;}#sk-container-id-1 input.sk-toggleable__control:checked~label.sk-toggleable__label-arrow:before {content: \"▾\";}#sk-container-id-1 div.sk-estimator input.sk-toggleable__control:checked~label.sk-toggleable__label {background-color: #d4ebff;}#sk-container-id-1 div.sk-label input.sk-toggleable__control:checked~label.sk-toggleable__label {background-color: #d4ebff;}#sk-container-id-1 input.sk-hidden--visually {border: 0;clip: rect(1px 1px 1px 1px);clip: rect(1px, 1px, 1px, 1px);height: 1px;margin: -1px;overflow: hidden;padding: 0;position: absolute;width: 1px;}#sk-container-id-1 div.sk-estimator {font-family: monospace;background-color: #f0f8ff;border: 1px dotted black;border-radius: 0.25em;box-sizing: border-box;margin-bottom: 0.5em;}#sk-container-id-1 div.sk-estimator:hover {background-color: #d4ebff;}#sk-container-id-1 div.sk-parallel-item::after {content: \"\";width: 100%;border-bottom: 1px solid gray;flex-grow: 1;}#sk-container-id-1 div.sk-label:hover label.sk-toggleable__label {background-color: #d4ebff;}#sk-container-id-1 div.sk-serial::before {content: \"\";position: absolute;border-left: 1px solid gray;box-sizing: border-box;top: 0;bottom: 0;left: 50%;z-index: 0;}#sk-container-id-1 div.sk-serial {display: flex;flex-direction: column;align-items: center;background-color: white;padding-right: 0.2em;padding-left: 0.2em;position: relative;}#sk-container-id-1 div.sk-item {position: relative;z-index: 1;}#sk-container-id-1 div.sk-parallel {display: flex;align-items: stretch;justify-content: center;background-color: white;position: relative;}#sk-container-id-1 div.sk-item::before, #sk-container-id-1 div.sk-parallel-item::before {content: \"\";position: absolute;border-left: 1px solid gray;box-sizing: border-box;top: 0;bottom: 0;left: 50%;z-index: -1;}#sk-container-id-1 div.sk-parallel-item {display: flex;flex-direction: column;z-index: 1;position: relative;background-color: white;}#sk-container-id-1 div.sk-parallel-item:first-child::after {align-self: flex-end;width: 50%;}#sk-container-id-1 div.sk-parallel-item:last-child::after {align-self: flex-start;width: 50%;}#sk-container-id-1 div.sk-parallel-item:only-child::after {width: 0;}#sk-container-id-1 div.sk-dashed-wrapped {border: 1px dashed gray;margin: 0 0.4em 0.5em 0.4em;box-sizing: border-box;padding-bottom: 0.4em;background-color: white;}#sk-container-id-1 div.sk-label label {font-family: monospace;font-weight: bold;display: inline-block;line-height: 1.2em;}#sk-container-id-1 div.sk-label-container {text-align: center;}#sk-container-id-1 div.sk-container {/* jupyter's `normalize.less` sets `[hidden] { display: none; }` but bootstrap.min.css set `[hidden] { display: none !important; }` so we also need the `!important` here to be able to override the default hidden behavior on the sphinx rendered scikit-learn.org. See: https://github.com/scikit-learn/scikit-learn/issues/21755 */display: inline-block !important;position: relative;}#sk-container-id-1 div.sk-text-repr-fallback {display: none;}</style><div id=\"sk-container-id-1\" class=\"sk-top-container\"><div class=\"sk-text-repr-fallback\"><pre>RandomForestRegressor(random_state=42)</pre><b>In a Jupyter environment, please rerun this cell to show the HTML representation or trust the notebook. <br />On GitHub, the HTML representation is unable to render, please try loading this page with nbviewer.org.</b></div><div class=\"sk-container\" hidden><div class=\"sk-item\"><div class=\"sk-estimator sk-toggleable\"><input class=\"sk-toggleable__control sk-hidden--visually\" id=\"sk-estimator-id-1\" type=\"checkbox\" checked><label for=\"sk-estimator-id-1\" class=\"sk-toggleable__label sk-toggleable__label-arrow\">RandomForestRegressor</label><div class=\"sk-toggleable__content\"><pre>RandomForestRegressor(random_state=42)</pre></div></div></div></div></div>"
      ],
      "text/plain": [
       "RandomForestRegressor(random_state=42)"
      ]
     },
     "execution_count": 14,
     "metadata": {},
     "output_type": "execute_result"
    }
   ],
   "source": [
    "model.fit(X_train, y_train)"
   ]
  },
  {
   "cell_type": "code",
   "execution_count": 16,
   "metadata": {},
   "outputs": [
    {
     "name": "stdout",
     "output_type": "stream",
     "text": [
      "Mean Absolute Error: 17.62399999999999\n"
     ]
    }
   ],
   "source": [
    "predictions = model.predict(X_test)\n",
    "\n",
    "mae = mean_absolute_error(y_test, predictions)\n",
    "print(f\"Mean Absolute Error: {mae}\")"
   ]
  },
  {
   "cell_type": "markdown",
   "metadata": {},
   "source": [
    "Here we define the sample data that we will use to predict the recommended daily calories. In this case is hardcoded, but in the final product it will be extracted from the website/application."
   ]
  },
  {
   "cell_type": "code",
   "execution_count": 26,
   "metadata": {},
   "outputs": [
    {
     "data": {
      "text/html": [
       "<div>\n",
       "<style scoped>\n",
       "    .dataframe tbody tr th:only-of-type {\n",
       "        vertical-align: middle;\n",
       "    }\n",
       "\n",
       "    .dataframe tbody tr th {\n",
       "        vertical-align: top;\n",
       "    }\n",
       "\n",
       "    .dataframe thead th {\n",
       "        text-align: right;\n",
       "    }\n",
       "</style>\n",
       "<table border=\"1\" class=\"dataframe\">\n",
       "  <thead>\n",
       "    <tr style=\"text-align: right;\">\n",
       "      <th></th>\n",
       "      <th>Weight</th>\n",
       "      <th>Height</th>\n",
       "      <th>Age</th>\n",
       "      <th>Sex</th>\n",
       "    </tr>\n",
       "  </thead>\n",
       "  <tbody>\n",
       "    <tr>\n",
       "      <th>0</th>\n",
       "      <td>70</td>\n",
       "      <td>5</td>\n",
       "      <td>18</td>\n",
       "      <td>1</td>\n",
       "    </tr>\n",
       "  </tbody>\n",
       "</table>\n",
       "</div>"
      ],
      "text/plain": [
       "   Weight  Height  Age  Sex\n",
       "0      70       5   18    1"
      ]
     },
     "execution_count": 26,
     "metadata": {},
     "output_type": "execute_result"
    }
   ],
   "source": [
    "new_data = {'Weight': [70], 'Height': [5], 'Age': [18], 'Sex': [1]}  # Example values\n",
    "new_df = pd.DataFrame(new_data)\n",
    "new_df"
   ]
  },
  {
   "cell_type": "code",
   "execution_count": 27,
   "metadata": {},
   "outputs": [
    {
     "name": "stdout",
     "output_type": "stream",
     "text": [
      "Predicted Daily Calories: 1455.02\n"
     ]
    }
   ],
   "source": [
    "predicted_calories = model.predict(new_df)\n",
    "print(f\"Predicted Daily Calories: {predicted_calories[0]}\")"
   ]
  },
  {
   "cell_type": "markdown",
   "metadata": {},
   "source": [
    "So if your weight is 70 lbs (30kg), you have to take around 1500 calories daily. Obviolusly this does not provide any kind of information, however this will be the structure of the future model."
   ]
  },
  {
   "cell_type": "code",
   "execution_count": 24,
   "metadata": {},
   "outputs": [
    {
     "data": {
      "text/html": [
       "<div>\n",
       "<style scoped>\n",
       "    .dataframe tbody tr th:only-of-type {\n",
       "        vertical-align: middle;\n",
       "    }\n",
       "\n",
       "    .dataframe tbody tr th {\n",
       "        vertical-align: top;\n",
       "    }\n",
       "\n",
       "    .dataframe thead th {\n",
       "        text-align: right;\n",
       "    }\n",
       "</style>\n",
       "<table border=\"1\" class=\"dataframe\">\n",
       "  <thead>\n",
       "    <tr style=\"text-align: right;\">\n",
       "      <th></th>\n",
       "      <th>Weight</th>\n",
       "      <th>Height</th>\n",
       "      <th>Age</th>\n",
       "      <th>Sex</th>\n",
       "    </tr>\n",
       "  </thead>\n",
       "  <tbody>\n",
       "    <tr>\n",
       "      <th>0</th>\n",
       "      <td>200</td>\n",
       "      <td>5</td>\n",
       "      <td>21</td>\n",
       "      <td>1</td>\n",
       "    </tr>\n",
       "  </tbody>\n",
       "</table>\n",
       "</div>"
      ],
      "text/plain": [
       "   Weight  Height  Age  Sex\n",
       "0     200       5   21    1"
      ]
     },
     "execution_count": 24,
     "metadata": {},
     "output_type": "execute_result"
    }
   ],
   "source": [
    "new_data = {'Weight': [200], 'Height': [5], 'Age': [21], 'Sex': [1]}  # Example values\n",
    "new_df = pd.DataFrame(new_data)\n",
    "new_df"
   ]
  },
  {
   "cell_type": "code",
   "execution_count": 25,
   "metadata": {},
   "outputs": [
    {
     "name": "stdout",
     "output_type": "stream",
     "text": [
      "Predicted Daily Calories: 2047.51\n"
     ]
    }
   ],
   "source": [
    "predicted_calories = model.predict(new_df)\n",
    "print(f\"Predicted Daily Calories: {predicted_calories[0]}\")"
   ]
  },
  {
   "cell_type": "markdown",
   "metadata": {},
   "source": []
  }
 ],
 "metadata": {
  "kernelspec": {
   "display_name": "Python 3",
   "language": "python",
   "name": "python3"
  },
  "language_info": {
   "codemirror_mode": {
    "name": "ipython",
    "version": 3
   },
   "file_extension": ".py",
   "mimetype": "text/x-python",
   "name": "python",
   "nbconvert_exporter": "python",
   "pygments_lexer": "ipython3",
   "version": "3.11.2"
  }
 },
 "nbformat": 4,
 "nbformat_minor": 2
}
